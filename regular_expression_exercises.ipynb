{
 "cells": [
  {
   "cell_type": "code",
   "execution_count": null,
   "id": "23a0d019-2a50-486d-ab37-00696cedabdf",
   "metadata": {},
   "outputs": [],
   "source": [
    "import pandas as pd\n",
    "import numpy as np\n",
    "import re"
   ]
  },
  {
   "cell_type": "code",
   "execution_count": null,
   "id": "804d1c04-8cb0-4432-9f4d-9261d6d54cbb",
   "metadata": {},
   "outputs": [],
   "source": [
    "def is_vowel(letter):\n",
    "    letter = str.lower(letter).strip()\n",
    "    vowels = r'^[aeiou/w/]'\n",
    "    match = re.search(letter, vowels)\n",
    "    if match:\n",
    "        print('This is a vowel')\n",
    "    else:\n",
    "        print('Not a vowel')"
   ]
  },
  {
   "cell_type": "code",
   "execution_count": null,
   "id": "573a1a1f-15db-414c-a4ce-b0f096679c0f",
   "metadata": {},
   "outputs": [
    {
     "name": "stdout",
     "output_type": "stream",
     "text": [
      "This is a vowel\n"
     ]
    }
   ],
   "source": [
    "is_vowel('A')"
   ]
  },
  {
   "cell_type": "code",
   "execution_count": null,
   "id": "f30f5ce5-5b6b-47d7-9f8b-a319cf76f340",
   "metadata": {},
   "outputs": [
    {
     "name": "stdout",
     "output_type": "stream",
     "text": [
      "Not a vowel\n"
     ]
    }
   ],
   "source": [
    "is_vowel('p')"
   ]
  },
  {
   "cell_type": "code",
   "execution_count": null,
   "id": "6f88270d-eb07-4cee-b3df-c1c04958a673",
   "metadata": {},
   "outputs": [],
   "source": [
    "def is_valid_username(username):\n",
    "    match = re.search(r'^[a-z][a-z0-9_]{8,32}$', username)\n",
    "    if match:\n",
    "        print('True')\n",
    "    else:\n",
    "        print('False')"
   ]
  },
  {
   "cell_type": "code",
   "execution_count": null,
   "id": "a3021ae2-445c-424e-9525-8a9d040a5615",
   "metadata": {},
   "outputs": [
    {
     "name": "stdout",
     "output_type": "stream",
     "text": [
      "True\n"
     ]
    }
   ],
   "source": [
    "is_valid_username('a0000000000')"
   ]
  },
  {
   "cell_type": "code",
   "execution_count": 44,
   "id": "dcfe7a67",
   "metadata": {},
   "outputs": [],
   "source": [
    "def phone_number(string):\n",
    "    match = re.search(r'^.{1,4}?\\d{3}?\\.?\\d{3}\\.\\d{4}$', string)\n",
    "    if match:\n",
    "        return string\n",
    "    else:\n",
    "        print('invalid phone number')"
   ]
  },
  {
   "cell_type": "markdown",
   "id": "4a6932f2-a042-491e-af75-d00068e40bdd",
   "metadata": {},
   "source": [
    "def phone_number(string):\n",
    "    match = re.search(r'^(\\+\\d{1,3}\\s?)?\\(\\d{3}\\)?[\\s.-]?\\d{3}[\\s.-]\\d{4}$', string)\n",
    "    if match:\n",
    "        return string\n",
    "    else:\n",
    "        print('invalid phone number')"
   ]
  },
  {
   "cell_type": "code",
   "execution_count": 45,
   "id": "ff6e4602-0cc6-4bc0-8ef5-23c59cea8acd",
   "metadata": {},
   "outputs": [
    {
     "name": "stdout",
     "output_type": "stream",
     "text": [
      "invalid phone number\n"
     ]
    }
   ],
   "source": [
    "phone_number('214-123-4444')"
   ]
  },
  {
   "cell_type": "code",
   "execution_count": null,
   "id": "51c7290d-6332-4b61-aa8c-4ab559f2f8a9",
   "metadata": {},
   "outputs": [],
   "source": [
    "def date_change(date):\n",
    "    sub = re.sub(r'(.{1,3})(.{1,3})(.{1,3})', r'20\\3/\\2\\1', date)\n",
    "    match = re.search(r'.{,10}', sub)\n",
    "    print(match.group(0))\n"
   ]
  },
  {
   "cell_type": "code",
   "execution_count": null,
   "id": "f0ac9156-e815-41b1-9128-7784a130d3cf",
   "metadata": {},
   "outputs": [
    {
     "name": "stdout",
     "output_type": "stream",
     "text": [
      "2019/02/02\n"
     ]
    }
   ],
   "source": [
    "date_change('02/02/19')"
   ]
  },
  {
   "cell_type": "code",
   "execution_count": 11,
   "id": "c6b6c3c5-f854-497c-99cf-02543586e68e",
   "metadata": {},
   "outputs": [],
   "source": [
    "logs = ['GET /api/v1/sales?page=86 [16/Apr/2019:193452+0000] HTTP/1.1 {200} 510348 \"python-requests/2.21.0\" 97.105.19.58', \n",
    "        'POST /users_accounts/file-upload [16/Apr/2019:193452+0000] HTTP/1.1 {201} 42 \"User-Agent: Mozilla/5.0 (X11; Fedora; Fedora; Linux x86_64) AppleWebKit/537.36 (KHTML, like Gecko) Chrome/73.0.3683.86 Safari/537.36\" 97.105.19.58', \n",
    "        'GET /api/v1/items?page=3 [16/Apr/2019:193453+0000] HTTP/1.1 {429} 3561 \"python-requests/2.21.0\" 97.105.19.58']\n"
   ]
  },
  {
   "cell_type": "code",
   "execution_count": 49,
   "id": "00914e48-2abc-40cd-a3d5-535b4bdb1438",
   "metadata": {},
   "outputs": [],
   "source": [
    "pattern = re.compile(r\"\"\"\n",
    "(?P<type>.+)\n",
    "\\s+\n",
    "(?P<request>.+)\n",
    "\\s+\n",
    "(?P<date>.+)\n",
    "\\]\n",
    "(?P<http>.+)\n",
    "\\\"\n",
    "(?P<driver>.+)\n",
    "\\\"\n",
    "(?P<ip>.+)\n",
    "\"\"\", re.VERBOSE)"
   ]
  },
  {
   "cell_type": "code",
   "execution_count": 50,
   "id": "697e7a5e-03ac-4345-8d35-8a711476977b",
   "metadata": {},
   "outputs": [
    {
     "name": "stdout",
     "output_type": "stream",
     "text": [
      "{'type': 'GET', 'request': '/api/v1/sales?page=86', 'date': '[16/Apr/2019:193452+0000', 'http': ' HTTP/1.1 {200} 510348 ', 'driver': 'python-requests/2.21.0', 'ip': ' 97.105.19.58'}\n",
      "{'type': 'POST', 'request': '/users_accounts/file-upload', 'date': '[16/Apr/2019:193452+0000', 'http': ' HTTP/1.1 {201} 42 ', 'driver': 'User-Agent: Mozilla/5.0 (X11; Fedora; Fedora; Linux x86_64) AppleWebKit/537.36 (KHTML, like Gecko) Chrome/73.0.3683.86 Safari/537.36', 'ip': ' 97.105.19.58'}\n",
      "{'type': 'GET', 'request': '/api/v1/items?page=3', 'date': '[16/Apr/2019:193453+0000', 'http': ' HTTP/1.1 {429} 3561 ', 'driver': 'python-requests/2.21.0', 'ip': ' 97.105.19.58'}\n"
     ]
    }
   ],
   "source": [
    "for log in logs:\n",
    "    print(re.search(pattern, log).groupdict())"
   ]
  },
  {
   "cell_type": "code",
   "execution_count": 51,
   "id": "02a5c921-616d-4d3d-a59c-8cef5ecceb52",
   "metadata": {},
   "outputs": [
    {
     "data": {
      "text/plain": [
       "[{'type': 'GET',\n",
       "  'request': '/api/v1/sales?page=86',\n",
       "  'date': '[16/Apr/2019:193452+0000',\n",
       "  'http': ' HTTP/1.1 {200} 510348 ',\n",
       "  'driver': 'python-requests/2.21.0',\n",
       "  'ip': ' 97.105.19.58'},\n",
       " {'type': 'POST',\n",
       "  'request': '/users_accounts/file-upload',\n",
       "  'date': '[16/Apr/2019:193452+0000',\n",
       "  'http': ' HTTP/1.1 {201} 42 ',\n",
       "  'driver': 'User-Agent: Mozilla/5.0 (X11; Fedora; Fedora; Linux x86_64) AppleWebKit/537.36 (KHTML, like Gecko) Chrome/73.0.3683.86 Safari/537.36',\n",
       "  'ip': ' 97.105.19.58'},\n",
       " {'type': 'GET',\n",
       "  'request': '/api/v1/items?page=3',\n",
       "  'date': '[16/Apr/2019:193453+0000',\n",
       "  'http': ' HTTP/1.1 {429} 3561 ',\n",
       "  'driver': 'python-requests/2.21.0',\n",
       "  'ip': ' 97.105.19.58'}]"
      ]
     },
     "execution_count": 51,
     "metadata": {},
     "output_type": "execute_result"
    }
   ],
   "source": [
    "a = [re.search(pattern, log).groupdict() for log in logs]\n",
    "a"
   ]
  },
  {
   "cell_type": "code",
   "execution_count": 15,
   "id": "d9232dc0-01b0-4d5f-8d01-438e4ce8a325",
   "metadata": {},
   "outputs": [
    {
     "name": "stdout",
     "output_type": "stream",
     "text": [
      "{'type': 'GET', 'request': '/api/v1/sales?page=86', 'date': '16/Apr/2019:193452+0000', 'http': ' HTTP/1.1 {200} 510348 ', 'driver': 'python-requests/2.21.0', 'ip': ' 97.105.19.58'}\n",
      "{'type': 'POST', 'request': '/users_accounts/file-upload', 'date': '16/Apr/2019:193452+0000', 'http': ' HTTP/1.1 {201} 42 ', 'driver': 'User-Agent: Mozilla/5.0 (X11; Fedora; Fedora; Linux x86_64) AppleWebKit/537.36 (KHTML, like Gecko) Chrome/73.0.3683.86 Safari/537.36', 'ip': ' 97.105.19.58'}\n",
      "{'type': 'GET', 'request': '/api/v1/items?page=3', 'date': '16/Apr/2019:193453+0000', 'http': ' HTTP/1.1 {429} 3561 ', 'driver': 'python-requests/2.21.0', 'ip': ' 97.105.19.58'}\n"
     ]
    }
   ],
   "source": [
    "for i in a:\n",
    "    i['request'] = i['request'].strip()\n",
    "    print(i)\n",
    "    "
   ]
  },
  {
   "cell_type": "code",
   "execution_count": null,
   "id": "f0b90596-2aff-4c60-a63d-5cd9c6cabc00",
   "metadata": {},
   "outputs": [],
   "source": []
  },
  {
   "cell_type": "code",
   "execution_count": null,
   "id": "b36127ce-6af8-4d32-9386-a213b10182f9",
   "metadata": {},
   "outputs": [],
   "source": []
  }
 ],
 "metadata": {
  "kernelspec": {
   "display_name": "Python 3 (ipykernel)",
   "language": "python",
   "name": "python3"
  },
  "language_info": {
   "codemirror_mode": {
    "name": "ipython",
    "version": 3
   },
   "file_extension": ".py",
   "mimetype": "text/x-python",
   "name": "python",
   "nbconvert_exporter": "python",
   "pygments_lexer": "ipython3",
   "version": "3.9.13"
  }
 },
 "nbformat": 4,
 "nbformat_minor": 5
}
